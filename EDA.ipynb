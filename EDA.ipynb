{
 "cells": [
  {
   "cell_type": "markdown",
   "metadata": {},
   "source": [
    "# Data exploration \n",
    "\n",
    "Dataset: https://www.kaggle.com/datasets/abdullah0a/comprehensive-weight-change-prediction\n",
    "\n",
    "This dataset includes features involving aspects that may influence weight gain or loss"
   ]
  },
  {
   "cell_type": "markdown",
   "metadata": {},
   "source": [
    "### Data Cleaning"
   ]
  },
  {
   "cell_type": "code",
   "execution_count": 19,
   "metadata": {},
   "outputs": [
    {
     "data": {
      "text/plain": [
       "Index(['Age', 'Gender', 'Current_Weight_(lbs)', 'BMR_(Calories)',\n",
       "       'Daily_Calories_Consumed', 'Daily_Caloric_Surplus/Deficit',\n",
       "       'Weight_Change_(lbs)', 'Duration_(weeks)', 'Physical_Activity_Level',\n",
       "       'Sleep_Quality', 'Stress_Level', 'Final_Weight_(lbs)'],\n",
       "      dtype='object')"
      ]
     },
     "execution_count": 19,
     "metadata": {},
     "output_type": "execute_result"
    }
   ],
   "source": [
    "df.columns"
   ]
  },
  {
   "cell_type": "code",
   "execution_count": 20,
   "metadata": {},
   "outputs": [
    {
     "data": {
      "text/plain": [
       "Index(['Age', 'Gender', 'Current_Weight_(lbs)', 'BMR_(Calories)',\n",
       "       'Daily_Calories_Consumed', 'Daily_Caloric_Surplus/Deficit',\n",
       "       'Weight_Change_(lbs)', 'Duration_(weeks)', 'Physical_Activity_Level',\n",
       "       'Sleep_Quality', 'Stress_Level', 'Final_Weight_(lbs)'],\n",
       "      dtype='object')"
      ]
     },
     "execution_count": 20,
     "metadata": {},
     "output_type": "execute_result"
    }
   ],
   "source": [
    "df.columns = df.columns.str.replace(' ', '_')\n",
    "\n",
    "df.columns"
   ]
  },
  {
   "cell_type": "code",
   "execution_count": 21,
   "metadata": {},
   "outputs": [
    {
     "data": {
      "text/plain": [
       "Age                              0\n",
       "Gender                           0\n",
       "Current_Weight_(lbs)             0\n",
       "BMR_(Calories)                   0\n",
       "Daily_Calories_Consumed          0\n",
       "Daily_Caloric_Surplus/Deficit    0\n",
       "Weight_Change_(lbs)              0\n",
       "Duration_(weeks)                 0\n",
       "Physical_Activity_Level          0\n",
       "Sleep_Quality                    0\n",
       "Stress_Level                     0\n",
       "Final_Weight_(lbs)               0\n",
       "dtype: int64"
      ]
     },
     "execution_count": 21,
     "metadata": {},
     "output_type": "execute_result"
    }
   ],
   "source": [
    "df.isnull().sum()"
   ]
  },
  {
   "cell_type": "code",
   "execution_count": 22,
   "metadata": {},
   "outputs": [],
   "source": [
    "data_encoded = df.copy()\n",
    "\n",
    "# Encode 'Gender'\n",
    "data_encoded['Gender'] = data_encoded['Gender'].map({'M': 0, 'F': 1})\n",
    "\n",
    "# Encode 'Physical Activity Level'\n",
    "activity_mapping = {'Sedentary': 0, 'Lightly Active': 1,\n",
    "                    'Moderately Active': 2, 'Very Active': 3}\n",
    "data_encoded['Physical_Activity_Level'] = data_encoded['Physical_Activity_Level'].map(\n",
    "    activity_mapping)\n",
    "\n",
    "# Encode 'Sleep Quality'\n",
    "sleep_mapping = {'Poor': 0, 'Fair': 1, 'Good': 2, 'Excellent': 3}\n",
    "data_encoded['Sleep_Quality'] = data_encoded['Sleep_Quality'].map(\n",
    "    sleep_mapping)"
   ]
  },
  {
   "cell_type": "code",
   "execution_count": 9,
   "metadata": {},
   "outputs": [],
   "source": [
    "sns.pairplot(df)"
   ]
  },
  {
   "cell_type": "code",
   "execution_count": 10,
   "metadata": {},
   "outputs": [],
   "source": [
    "plt.figure(figsize=(6, 6))\n",
    "df['Gender'].value_counts().plot.pie(\n",
    "    autopct='%1.1f%%', colors=['salmon', 'skyblue'])\n",
    "plt.title('Gender Distribution')\n",
    "plt.ylabel('')\n",
    "plt.show()"
   ]
  },
  {
   "cell_type": "code",
   "execution_count": 12,
   "metadata": {},
   "outputs": [],
   "source": [
    "plt.figure(figsize=(10, 6))\n",
    "sns.histplot(data_encoded['Weight_Change_(lbs)'],\n",
    "             bins=20, kde=True, color='turquoise')\n",
    "plt.title('Weight Change Distribution')\n",
    "plt.xlabel('Weight Change (lbs)')\n",
    "plt.ylabel('Frequency')\n",
    "plt.show()"
   ]
  },
  {
   "cell_type": "code",
   "execution_count": 13,
   "metadata": {},
   "outputs": [],
   "source": [
    "plt.figure(figsize=(14, 12))\n",
    "numeric_cols = data_encoded.select_dtypes(include=['float64', 'int64'])\n",
    "sns.heatmap(numeric_cols.corr(), annot=True, fmt=\".2f\", cmap='BuPu')\n",
    "plt.title('Correlation Heatmap')\n",
    "plt.show()"
   ]
  },
  {
   "cell_type": "code",
   "execution_count": null,
   "metadata": {},
   "outputs": [],
   "source": [
    "sns.histplot(data=data_encoded[\"Daily_Caloric_Surplus/Deficit\"],\n",
    "             bins=10, kde=True, color='orange', edgecolor='black')\n",
    "\n",
    "# Add title and labels\n",
    "plt.title(\"Distribution of Daily Caloric Surplus/Deficit\")\n",
    "plt.xlabel(\"Caloric Surplus/Deficit\")\n",
    "plt.ylabel(\"Number of People\")\n",
    "\n",
    "# Show the plot\n",
    "plt.show()"
   ]
  }
 ],
 "metadata": {
  "kernelspec": {
   "display_name": "Fall24Mining",
   "language": "python",
   "name": "python3"
  },
  "language_info": {
   "codemirror_mode": {
    "name": "ipython",
    "version": 3
   },
   "file_extension": ".py",
   "mimetype": "text/x-python",
   "name": "python",
   "nbconvert_exporter": "python",
   "pygments_lexer": "ipython3",
   "version": "3.10.14"
  }
 },
 "nbformat": 4,
 "nbformat_minor": 2
}
